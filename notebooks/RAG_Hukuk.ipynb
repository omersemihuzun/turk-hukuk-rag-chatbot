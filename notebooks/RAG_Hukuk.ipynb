{
  "cells": [
    {
      "cell_type": "markdown",
      "metadata": {},
      "source": [
        "# Türk Hukuk RAG Chatbot\n",
        "\n",
        "Bu notebook, `Renicames/turkish-law-chatbot` veri seti ile RAG boru hattının uçtan uca nasıl kurulduğunu örnekler.\n"
      ]
    },
    {
      "cell_type": "code",
      "execution_count": null,
      "metadata": {},
      "outputs": [],
      "source": [
        "!pip -q install -r ../requirements.txt\n"
      ]
    },
    {
      "cell_type": "markdown",
      "metadata": {},
      "source": [
        "### Alternatif: BuyukSinema'yı doğrudan yükle ve pandas'a çevir\n"
      ]
    },
    {
      "cell_type": "code",
      "execution_count": null,
      "metadata": {},
      "outputs": [],
      "source": [
        "from datasets import load_dataset\n",
        "import pandas as pd\n",
        "import re\n",
        "\n",
        "# BuyukSinema datasetini HF Datasets ile yükle\n",
        "# Not: Bu veri setinde text ve label kolonları bulunur\n",
        "buyuk = load_dataset(\"turkish-nlp-suite/BuyukSinema\", split=\"train\")\n",
        "print(buyuk)\n",
        "print(buyuk.column_names)\n",
        "print(buyuk[0])\n",
        "\n",
        "# Pandas DataFrame'e çevir\n",
        "df = buyuk.to_pandas()\n",
        "print(df.head())\n",
        "\n",
        "# Basit bir temizlik örneği (isteğe bağlı)\n",
        "def basic_clean(t: str) -> str:\n",
        "    if not isinstance(t, str):\n",
        "        return \"\"\n",
        "    t = re.sub(r\"\\s+\", \" \", t).strip()\n",
        "    return t\n",
        "\n",
        "df[\"text_clean\"] = df[\"text\"].map(basic_clean)\n",
        "df.head()\n"
      ]
    },
    {
      "cell_type": "markdown",
      "metadata": {},
      "source": [
        "### (Opsiyonel) Haystack Document formatına dönüştürme\n"
      ]
    },
    {
      "cell_type": "code",
      "execution_count": null,
      "metadata": {},
      "outputs": [],
      "source": [
        "# Eğer Haystack kullanacaksanız şu örnek işinize yarar\n",
        "# pip install farm-haystack\n",
        "try:\n",
        "    from haystack.dataclasses import Document\n",
        "    docs = [\n",
        "        Document(content=row[\"text_clean\"], meta={\"label\": int(row[\"label\"])})\n",
        "        for _, row in df.iterrows()\n",
        "        if isinstance(row[\"text_clean\"], str) and len(row[\"text_clean\"]) > 0\n",
        "    ]\n",
        "    print(docs[0] if docs else \"no docs\")\n",
        "except Exception as e:\n",
        "    print(\"Haystack kurulu değil veya Document importu başarısız:\", e)\n"
      ]
    },
    {
      "cell_type": "markdown",
      "metadata": {},
      "source": [
        "## 1) Veri Setini Yükle\n"
      ]
    },
    {
      "cell_type": "code",
      "execution_count": null,
      "metadata": {},
      "outputs": [],
      "source": [
        "from datasets import load_dataset\n",
        "\n",
        "ds = load_dataset('turkish-nlp-suite/BuyukSinema')\n",
        "ds\n"
      ]
    },
    {
      "cell_type": "markdown",
      "metadata": {},
      "source": [
        "## 2) FAISS İndeksi Oluştur (script)\n"
      ]
    },
    {
      "cell_type": "code",
      "execution_count": null,
      "metadata": {},
      "outputs": [],
      "source": [
        "%run ../src/build_index.py\n"
      ]
    },
    {
      "cell_type": "markdown",
      "metadata": {},
      "source": [
        "## 3) Soru Sor ve Yanıt Al\n"
      ]
    },
    {
      "cell_type": "code",
      "execution_count": null,
      "metadata": {},
      "outputs": [],
      "source": [
        "from src.rag_pipeline import answer_question\n",
        "\n",
        "resp = answer_question('Duygu olarak en olumlu yorumlar nelerden bahsediyor?', top_k=5)\n",
        "resp['answer']\n"
      ]
    }
  ],
  "metadata": {
    "language_info": {
      "name": "python"
    }
  },
  "nbformat": 4,
  "nbformat_minor": 2
}
